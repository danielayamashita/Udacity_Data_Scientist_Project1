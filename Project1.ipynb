{
 "cells": [
  {
   "cell_type": "markdown",
   "metadata": {},
   "source": [
    "\n",
    "### Project 1: Write a Data Scientist Blog Post\n",
    "\n",
    "This Jupyter notebook will analyse the StackOverflow data from 2011 to 2020 to indentify some tendencies in software developper career satisfaction in the last years. \n",
    "\n",
    "First of all, the data are read from csv files."
   ]
  },
  {
   "cell_type": "code",
   "execution_count": 3,
   "metadata": {},
   "outputs": [],
   "source": [
    "import numpy as np\n",
    "import pandas as pd\n",
    "import matplotlib.pyplot as plt\n",
    "from sklearn.linear_model import LinearRegression\n",
    "from sklearn.model_selection import train_test_split\n",
    "from sklearn.metrics import r2_score, mean_squared_error\n",
    "import seaborn as sns\n",
    "%matplotlib inline\n",
    "\n",
    "pd.set_option('display.max_columns', None)\n",
    "pd.set_option('display.max_rows', None)\n",
    "\n",
    "# Read csv files\n",
    "PathName = \"./Dataset/\"\n",
    "FileNames = [\"2011 Stack Overflow Survey Results\",\n",
    "             \"2012 Stack Overflow Survey Results\",\n",
    "             \"2013 Stack Overflow Survey Responses\",\n",
    "             \"2014 Stack Overflow Survey Responses\",\n",
    "             \"2015 Stack Overflow Developer Survey Responses\",\n",
    "             \"2016 Stack Overflow Survey Responses\",\n",
    "             \"survey_results_public_2017\",\n",
    "             \"survey_results_public_2018\",\n",
    "            \"survey_results_public_2019\",\n",
    "            \"survey_results_public_2020\"]\n"
   ]
  },
  {
   "cell_type": "code",
   "execution_count": 4,
   "metadata": {},
   "outputs": [],
   "source": [
    "years = np.linspace(2011,2020,2020-2011+1,dtype = 'int') # List with all the years under analysis\n",
    "\n",
    "Education_field = ['',\n",
    "                   '',\n",
    "                   '',\n",
    "                   '',\n",
    "                   '',\n",
    "                   '',\n",
    "                   'FormalEducation',\n",
    "                   'FormalEducation',\n",
    "                   'UndergradMajor',\n",
    "                   'EdLevel']\n",
    "\n",
    "Language_field = ['Which languages are you proficient in?',\n",
    "                   'Which languages are you proficient in?',\n",
    "                   'Which of the following languages or technologies have you used significantly in the past year?',\n",
    "                   'Which of the following languages or technologies have you used significantly in the past year?',\n",
    "                   'Select all that apply.1',\n",
    "                   '',\n",
    "                   'HaveWorkedLanguage',\n",
    "                   'LanguageWorkedWith',\n",
    "                   'LanguageWorkedWith',\n",
    "                   'LanguageWorkedWith']\n",
    "work_remotely = ['',\n",
    "                '',\n",
    "                '',\n",
    "                'Do you work remotely?',\n",
    "                '',\n",
    "                '',\n",
    "                'HomeRemote',\n",
    "                '',\n",
    "                'WorkRemote',\n",
    "                '']"
   ]
  },
  {
   "cell_type": "markdown",
   "metadata": {},
   "source": [
    "Evaluate the evolution in the last years on programming language usage."
   ]
  },
  {
   "cell_type": "code",
   "execution_count": 127,
   "metadata": {},
   "outputs": [],
   "source": [
    "def show_top_five_programming_languages(language,year,show_results = False):\n",
    "    print('Parse language field...')\n",
    "    \n",
    "    # Drop empty lines\n",
    "    language = language.dropna(axis = 0)\n",
    "    \n",
    "    # Identify the type of languages used in a year\n",
    "    All_languages = []\n",
    "    for sublist in language.str.split(\";\",expand=False).values.tolist():\n",
    "        for item in sublist:\n",
    "            All_languages.append(item.replace(\" \", \"\"))\n",
    "\n",
    "    language_type = list(set(All_languages)) # Select unique type of languages\n",
    "\n",
    "    # Calculate the frequency of each type of language\n",
    "    language_frequency =[]\n",
    "    for language_type_ in range(len(language_type)):\n",
    "        language_frequency.append(All_languages.count(language_type[language_type_]))\n",
    "\n",
    "\n",
    "    # Sort in decreasing order the most used programming language\n",
    "    index_sort = np.argsort(language_frequency)\n",
    "    index_sort\n",
    "    language_type_sorted = []\n",
    "    language_frequency_sorted = []\n",
    "    for index in index_sort:\n",
    "        language_type_sorted.append(language_type[index])\n",
    "        language_frequency_sorted.append(language_frequency[index])\n",
    "\n",
    "    # Show frequency bar for the top 5\n",
    "    if show_results:\n",
    "        fig = plt.figure()\n",
    "        ax = fig.add_axes([0,0,1,1])\n",
    "        ax.bar(language_type_sorted[-5:],language_frequency_sorted[-5:])\n",
    "        plt.title('The five most popular programming language in ' + str(year))\n",
    "        plt.show()\n",
    "    return language"
   ]
  },
  {
   "cell_type": "code",
   "execution_count": 130,
   "metadata": {},
   "outputs": [
    {
     "name": "stdout",
     "output_type": "stream",
     "text": [
      "------------------------------------------------------------------------\n",
      "Year 2011\n",
      "Reading csv file ': ./Dataset/2011 Stack Overflow Survey Results.csv ...\n",
      "Analysing field Which languages are you proficient in?...\n",
      "Parse language field...\n"
     ]
    },
    {
     "data": {
      "image/png": "[encoded data removed]",
      "text/plain": [
       "<Figure size 432x288 with 1 Axes>"
      ]
     },
     "metadata": {
      "needs_background": "light"
     },
     "output_type": "display_data"
    },
    {
     "name": "stdout",
     "output_type": "stream",
     "text": [
      "------------------------------------------------------------------------\n",
      "Year 2012\n",
      "Reading csv file ': ./Dataset/2012 Stack Overflow Survey Results.csv ...\n",
      "Analysing field Which languages are you proficient in?...\n",
      "Parse language field...\n"
     ]
    },
    {
     "data": {
      "image/png": "[encoded data removed]",
      "text/plain": [
       "<Figure size 432x288 with 1 Axes>"
      ]
     },
     "metadata": {
      "needs_background": "light"
     },
     "output_type": "display_data"
    },
    {
     "name": "stdout",
     "output_type": "stream",
     "text": [
      "------------------------------------------------------------------------\n",
      "Year 2013\n",
      "Reading csv file ': ./Dataset/2013 Stack Overflow Survey Responses.csv ...\n",
      "Analysing field Which of the following languages or technologies have you used significantly in the past year?...\n",
      "Parse language field...\n"
     ]
    },
    {
     "data": {
      "image/png": "[encoded data removed]",
      "text/plain": [
       "<Figure size 432x288 with 1 Axes>"
      ]
     },
     "metadata": {
      "needs_background": "light"
     },
     "output_type": "display_data"
    },
    {
     "name": "stdout",
     "output_type": "stream",
     "text": [
      "------------------------------------------------------------------------\n",
      "Year 2014\n",
      "Reading csv file ': ./Dataset/2014 Stack Overflow Survey Responses.csv ...\n",
      "Analysing field Which of the following languages or technologies have you used significantly in the past year?...\n",
      "Parse language field...\n"
     ]
    },
    {
     "data": {
      "image/png": "[encoded data removed]",
      "text/plain": [
       "<Figure size 432x288 with 1 Axes>"
      ]
     },
     "metadata": {
      "needs_background": "light"
     },
     "output_type": "display_data"
    },
    {
     "name": "stdout",
     "output_type": "stream",
     "text": [
      "------------------------------------------------------------------------\n",
      "Year 2015\n",
      "Reading csv file ': ./Dataset/2015 Stack Overflow Developer Survey Responses.csv ...\n",
      "Analysing field Select all that apply.1...\n",
      "Parse language field...\n"
     ]
    },
    {
     "data": {
      "image/png": "[encoded data removed]",
      "text/plain": [
       "<Figure size 432x288 with 1 Axes>"
      ]
     },
     "metadata": {
      "needs_background": "light"
     },
     "output_type": "display_data"
    },
    {
     "name": "stdout",
     "output_type": "stream",
     "text": [
      "------------------------------------------------------------------------\n",
      "Year 2016\n",
      "Reading csv file ': ./Dataset/2016 Stack Overflow Survey Responses.csv ...\n",
      "The field is empty! \n",
      "------------------------------------------------------------------------\n",
      "Year 2017\n",
      "Reading csv file ': ./Dataset/survey_results_public_2017.csv ...\n",
      "Analysing field HaveWorkedLanguage...\n",
      "Parse language field...\n"
     ]
    },
    {
     "data": {
      "image/png": "[encoded data removed]",
      "text/plain": [
       "<Figure size 432x288 with 1 Axes>"
      ]
     },
     "metadata": {
      "needs_background": "light"
     },
     "output_type": "display_data"
    },
    {
     "name": "stdout",
     "output_type": "stream",
     "text": [
      "------------------------------------------------------------------------\n",
      "Year 2018\n",
      "Reading csv file ': ./Dataset/survey_results_public_2018.csv ...\n",
      "Analysing field LanguageWorkedWith...\n",
      "Parse language field...\n"
     ]
    },
    {
     "data": {
      "image/png": "[encoded data removed]",
      "text/plain": [
       "<Figure size 432x288 with 1 Axes>"
      ]
     },
     "metadata": {
      "needs_background": "light"
     },
     "output_type": "display_data"
    },
    {
     "name": "stdout",
     "output_type": "stream",
     "text": [
      "------------------------------------------------------------------------\n",
      "Year 2019\n",
      "Reading csv file ': ./Dataset/survey_results_public_2019.csv ...\n",
      "Analysing field LanguageWorkedWith...\n",
      "Parse language field...\n"
     ]
    },
    {
     "data": {
      "image/png": "[encoded data removed]",
      "text/plain": [
       "<Figure size 432x288 with 1 Axes>"
      ]
     },
     "metadata": {
      "needs_background": "light"
     },
     "output_type": "display_data"
    },
    {
     "name": "stdout",
     "output_type": "stream",
     "text": [
      "------------------------------------------------------------------------\n",
      "Year 2020\n",
      "Reading csv file ': ./Dataset/survey_results_public_2020.csv ...\n",
      "Analysing field LanguageWorkedWith...\n",
      "Parse language field...\n"
     ]
    },
    {
     "data": {
      "image/png": "[encoded data removed]",
      "text/plain": [
       "<Figure size 432x288 with 1 Axes>"
      ]
     },
     "metadata": {
      "needs_background": "light"
     },
     "output_type": "display_data"
    }
   ],
   "source": [
    "years = [2017]\n",
    "years = np.linspace(2011,2020,2020-2011+1,dtype = 'int') # List with all the years under analysis\n",
    "for year in years:\n",
    "    idx =  year - 2011;\n",
    "    print('------------------------------------------------------------------------')\n",
    "    print('Year ' + str(year))\n",
    "    print(\"Reading csv file ': \" + PathName  + FileNames[idx] + '.csv ...')\n",
    "    df = pd.read_csv(PathName  + FileNames[idx] + '.csv',engine='python') # TODO: Uncomment it later\n",
    "    if Language_field[idx] != '':\n",
    "        print('Analysing field ' + Language_field[idx] + '...')\n",
    "        language = df[Language_field[idx]]\n",
    "        language = show_top_five_programming_languages(language,year,show_results = True)\n",
    "    else:\n",
    "        language = []\n",
    "        print('The field is empty! ')\n",
    "            \n"
   ]
  },
  {
   "cell_type": "code",
   "execution_count": 125,
   "metadata": {},
   "outputs": [
    {
     "data": {
      "image/png": "[encoded data removed]",
      "text/plain": [
       "<Figure size 432x288 with 1 Axes>"
      ]
     },
     "metadata": {
      "needs_background": "light"
     },
     "output_type": "display_data"
    }
   ],
   "source": [
    "# Identify the type of languages used in a year\n",
    "All_languages = []\n",
    "for sublist in language.str.split(\";\",expand=False).values.tolist():\n",
    "    for item in sublist:\n",
    "        All_languages.append(item.replace(\" \", \"\"))\n",
    "\n",
    "language_type = list(set(All_languages)) # Select unique type of languages\n",
    "\n",
    "# Calculate the frequency of each type of language\n",
    "language_frequency =[]\n",
    "for language_type_ in range(len(language_type)):\n",
    "    language_frequency.append(All_languages.count(language_type[language_type_]))\n",
    "\n",
    "\n",
    "# Sort in decreasing order the most used programming language\n",
    "index_sort = np.argsort(language_frequency)\n",
    "index_sort\n",
    "language_type_sorted = []\n",
    "language_frequency_sorted = []\n",
    "for index in index_sort:\n",
    "    language_type_sorted.append(language_type[index])\n",
    "    language_frequency_sorted.append(language_frequency[index])\n",
    "\n",
    "# Show frequency bar for the top 5\n",
    "fig = plt.figure()\n",
    "ax = fig.add_axes([0,0,1,1])\n",
    "ax.bar(language_type_sorted[-5:],language_frequency_sorted[-5:])\n",
    "plt.title('The five most popular programming language in ' + str(year))\n",
    "plt.show()\n",
    "\n"
   ]
  },
  {
   "cell_type": "code",
   "execution_count": 120,
   "metadata": {},
   "outputs": [
    {
     "data": {
      "text/plain": [
       "['Hack',\n",
       " 'Julia',\n",
       " 'Dart',\n",
       " 'CommonLisp',\n",
       " 'Erlang',\n",
       " 'Smalltalk',\n",
       " 'Elixir',\n",
       " 'Clojure',\n",
       " 'Rust',\n",
       " 'F#',\n",
       " 'Haskell',\n",
       " 'Lua',\n",
       " 'VisualBasic6',\n",
       " 'CoffeeScript',\n",
       " 'Groovy',\n",
       " 'Scala',\n",
       " 'Go',\n",
       " 'Matlab',\n",
       " 'VBA',\n",
       " 'Perl',\n",
       " 'R',\n",
       " 'Assembly',\n",
       " 'VB.NET',\n",
       " 'Objective-C',\n",
       " 'Swift',\n",
       " 'Ruby',\n",
       " 'TypeScript',\n",
       " 'C',\n",
       " 'C++',\n",
       " 'PHP',\n",
       " 'Python',\n",
       " 'C#',\n",
       " 'Java',\n",
       " 'SQL',\n",
       " 'JavaScript']"
      ]
     },
     "execution_count": 120,
     "metadata": {},
     "output_type": "execute_result"
    }
   ],
   "source": [
    "index_sort\n",
    "language_type_sorted = []\n",
    "for index in index_sort:\n",
    "    language_type_sorted.append(language_type[index])\n",
    "language_type_sorted"
   ]
  },
  {
   "cell_type": "code",
   "execution_count": 51,
   "metadata": {},
   "outputs": [
    {
     "name": "stdout",
     "output_type": "stream",
     "text": [
      "./Dataset/2011 Stack Overflow Survey Results.csv\n",
      "Index(['What Country or Region do you live in?',\n",
      "       'Which US State or Territory do you live in?', 'How old are you?',\n",
      "       'How many years of IT/Programming experience do you have?',\n",
      "       'How would you best describe the industry you work in?',\n",
      "       'Which best describes the size of your company?',\n",
      "       'Which of the following best describes your occupation?',\n",
      "       'How likely is it that a recommendation you make will be acted upon?',\n",
      "       'What is your involvement in purchasing? You can choose more than 1.',\n",
      "       'Unnamed: 9', 'Unnamed: 10', 'Unnamed: 11', 'Unnamed: 12',\n",
      "       'Unnamed: 13', 'Unnamed: 14',\n",
      "       'What types of purchases are you involved in?', 'Unnamed: 16',\n",
      "       'Unnamed: 17', 'Unnamed: 18', 'Unnamed: 19', 'Unnamed: 20',\n",
      "       'What is your budget for outside expenditures (hardware, software, consulting, etc) for 2011?',\n",
      "       'Unnamed: 22', 'Unnamed: 23', 'Unnamed: 24', 'Unnamed: 25',\n",
      "       'Unnamed: 26', 'Unnamed: 27', 'Unnamed: 28',\n",
      "       'What type of project are you developing?',\n",
      "       'Which languages are you proficient in?', 'Unnamed: 31', 'Unnamed: 32',\n",
      "       'Unnamed: 33', 'Unnamed: 34', 'Unnamed: 35', 'Unnamed: 36',\n",
      "       'Unnamed: 37', 'Unnamed: 38', 'Unnamed: 39', 'Unnamed: 40',\n",
      "       'Unnamed: 41', 'Unnamed: 42',\n",
      "       'What operating system do you use the most?',\n",
      "       'Please rate your job/career satisfaction',\n",
      "       'Including bonus, what is your annual compensation in USD?',\n",
      "       'Which technology products do you own? (You can choose more than one)',\n",
      "       'Unnamed: 47', 'Unnamed: 48', 'Unnamed: 49', 'Unnamed: 50',\n",
      "       'Unnamed: 51', 'Unnamed: 52', 'Unnamed: 53', 'Unnamed: 54',\n",
      "       'Unnamed: 55', 'Unnamed: 56', 'Unnamed: 57', 'Unnamed: 58',\n",
      "       'Unnamed: 59', 'Unnamed: 60', 'Unnamed: 61', 'Unnamed: 62',\n",
      "       'In the last 12 months, how much money have you spent on personal technology-related purchases? ',\n",
      "       'Which of our sites do you frequent most?'],\n",
      "      dtype='object')\n",
      "./Dataset/2012 Stack Overflow Survey Results.csv\n",
      "Index(['What Country or Region do you live in?',\n",
      "       'Which US State or Territory do you live in?', 'How old are you?',\n",
      "       'How many years of IT/Programming experience do you have?',\n",
      "       'How would you best describe the industry you currently work in?',\n",
      "       'Which best describes the size of your company?',\n",
      "       'Which of the following best describes your occupation?',\n",
      "       'What is your involvement in purchasing products or services for the company you work for? (You can choose more than one)',\n",
      "       'Unnamed: 8', 'Unnamed: 9', 'Unnamed: 10', 'Unnamed: 11', 'Unnamed: 12',\n",
      "       'Unnamed: 13', 'What types of purchases are you involved in?',\n",
      "       'Unnamed: 15', 'Unnamed: 16', 'Unnamed: 17', 'Unnamed: 18',\n",
      "       'Unnamed: 19',\n",
      "       'What is your budget for outside expenditures (hardware, software, consulting, etc) for 2011?',\n",
      "       'What type of project are you developing?',\n",
      "       'Which languages are you proficient in?', 'Unnamed: 23', 'Unnamed: 24',\n",
      "       'Unnamed: 25', 'Unnamed: 26', 'Unnamed: 27', 'Unnamed: 28',\n",
      "       'Unnamed: 29', 'Unnamed: 30', 'Unnamed: 31', 'Unnamed: 32',\n",
      "       'Unnamed: 33', 'Unnamed: 34', 'Unnamed: 35', 'Unnamed: 36',\n",
      "       'Which desktop operating system do you use the most?',\n",
      "       'What best describes your career / job satisfaction? ',\n",
      "       'Including bonus, what is your annual compensation in USD?',\n",
      "       'Have you visited / Are you aware of Stack Overflow Careers?',\n",
      "       'Do you have a Stack Overflow Careers Profile?',\n",
      "       'You answered you don't have a Careers profile, can you elaborate why?',\n",
      "       'Unnamed: 43',\n",
      "       'Which technology products do you own? (You can choose more than one)',\n",
      "       'Unnamed: 45', 'Unnamed: 46', 'Unnamed: 47', 'Unnamed: 48',\n",
      "       'Unnamed: 49', 'Unnamed: 50', 'Unnamed: 51', 'Unnamed: 52',\n",
      "       'Unnamed: 53', 'Unnamed: 54', 'Unnamed: 55', 'Unnamed: 56',\n",
      "       'Unnamed: 57', 'Unnamed: 58', 'Unnamed: 59', 'Unnamed: 60',\n",
      "       'Unnamed: 61', 'Unnamed: 62', 'Unnamed: 63',\n",
      "       'In the last 12 months, how much money have you spent on personal technology-related purchases? ',\n",
      "       'Please rate the advertising you've seen on Stack Overflow',\n",
      "       'Unnamed: 66', 'Unnamed: 67', 'Unnamed: 68', 'Unnamed: 69',\n",
      "       'Unnamed: 70',\n",
      "       'What advertisers do you remember seeing on Stack Overflow?',\n",
      "       'What is your current Stack Overflow reputation?',\n",
      "       'Which of our sites do you frequent most?', 'Unnamed: 74'],\n",
      "      dtype='object')\n",
      "./Dataset/2013 Stack Overflow Survey Responses.csv\n",
      "Index(['What Country or Region do you live in?',\n",
      "       'Which US State or Territory do you live in?', 'How old are you?',\n",
      "       'How many years of IT/Programming experience do you have?',\n",
      "       'How would you best describe the industry you currently work in?',\n",
      "       'How many people work for your company?',\n",
      "       'Which of the following best describes your occupation?',\n",
      "       'Including yourself, how many developers are employed at your company?',\n",
      "       'How large is the team that you work on?',\n",
      "       'What other departments / roles do you interact with regularly?',\n",
      "       ...\n",
      "       'Unnamed: 118', 'Unnamed: 119', 'Unnamed: 120', 'Unnamed: 121',\n",
      "       'What advertisers do you remember seeing on Stack Overflow?',\n",
      "       'What is your current Stack Overflow reputation?',\n",
      "       'How do you use Stack Overflow?', 'Unnamed: 125', 'Unnamed: 126',\n",
      "       'Unnamed: 127'],\n",
      "      dtype='object', length=128)\n",
      "./Dataset/2014 Stack Overflow Survey Responses.csv\n",
      "Index(['What Country do you live in?', 'Unnamed: 1',\n",
      "       'Which US State or Territory do you live in?', 'How old are you?',\n",
      "       'What is your gender?',\n",
      "       'How many years of IT/Programming experience do you have?',\n",
      "       'Which of the following best describes your occupation?',\n",
      "       'Including bonus, what is your annual compensation in USD?',\n",
      "       'How would you best describe the industry you currently work in?',\n",
      "       'How many developers are employed at your company?',\n",
      "       ...\n",
      "       'Did you participate in the Apptivate contest?',\n",
      "       'What advertisers do you remember seeing on Stack Overflow?',\n",
      "       'What is your current Stack Overflow reputation?',\n",
      "       'How do you use Stack Overflow?', 'Unnamed: 114', 'Unnamed: 115',\n",
      "       'Unnamed: 116', 'Unnamed: 117', 'Unnamed: 118',\n",
      "       'How often do you find solutions to your programming problems on Stack Overflow without asking a new question?'],\n",
      "      dtype='object', length=120)\n",
      "./Dataset/2015 Stack Overflow Developer Survey Responses.csv\n",
      "Index(['Unnamed: 0', 'Unnamed: 1', 'Unnamed: 2', 'Unnamed: 3', 'Unnamed: 4',\n",
      "       'Unnamed: 5', 'Unnamed: 6', 'Unnamed: 7', 'Select all that apply',\n",
      "       'Unnamed: 9',\n",
      "       ...\n",
      "       'Unnamed: 212', 'Unnamed: 213', 'Select all that apply.7',\n",
      "       'Unnamed: 215', 'Unnamed: 216', 'Unnamed: 217', 'Unnamed: 218',\n",
      "       'Unnamed: 219', 'Unnamed: 220', 'Unnamed: 221'],\n",
      "      dtype='object', length=222)\n",
      "./Dataset/2016 Stack Overflow Survey Responses.csv\n",
      "Index(['Unnamed: 0', 'collector', 'country', 'un_subregion', 'so_region',\n",
      "       'age_range', 'age_midpoint', 'gender', 'self_identification',\n",
      "       'occupation', 'occupation_group', 'experience_range',\n",
      "       'experience_midpoint', 'salary_range', 'salary_midpoint',\n",
      "       'big_mac_index', 'tech_do', 'tech_want', 'aliens',\n",
      "       'programming_ability', 'employment_status', 'industry',\n",
      "       'company_size_range', 'team_size_range', 'women_on_team', 'remote',\n",
      "       'job_satisfaction', 'job_discovery', 'dev_environment',\n",
      "       'commit_frequency', 'hobby', 'dogs_vs_cats', 'desktop_os',\n",
      "       'unit_testing', 'rep_range', 'visit_frequency', 'why_learn_new_tech',\n",
      "       'education', 'open_to_new_job', 'new_job_value', 'job_search_annoyance',\n",
      "       'interview_likelihood', 'how_to_improve_interview_process',\n",
      "       'star_wars_vs_star_trek', 'agree_tech', 'agree_notice',\n",
      "       'agree_problemsolving', 'agree_diversity', 'agree_adblocker',\n",
      "       'agree_alcohol', 'agree_loveboss', 'agree_nightcode', 'agree_legacy',\n",
      "       'agree_mars', 'important_variety', 'important_control',\n",
      "       'important_sameend', 'important_newtech', 'important_buildnew',\n",
      "       'important_buildexisting', 'important_promotion',\n",
      "       'important_companymission', 'important_wfh', 'important_ownoffice',\n",
      "       'developer_challenges', 'why_stack_overflow'],\n",
      "      dtype='object')\n",
      "./Dataset/survey_results_public_2017.csv\n"
     ]
    },
    {
     "name": "stdout",
     "output_type": "stream",
     "text": [
      "Index(['Respondent', 'Professional', 'ProgramHobby', 'Country', 'University',\n",
      "       'EmploymentStatus', 'FormalEducation', 'MajorUndergrad', 'HomeRemote',\n",
      "       'CompanySize',\n",
      "       ...\n",
      "       'StackOverflowMakeMoney', 'Gender', 'HighestEducationParents', 'Race',\n",
      "       'SurveyLong', 'QuestionsInteresting', 'QuestionsConfusing',\n",
      "       'InterestedAnswers', 'Salary', 'ExpectedSalary'],\n",
      "      dtype='object', length=154)\n",
      "./Dataset/survey_results_public_2018.csv\n",
      "Index(['Respondent', 'Hobby', 'OpenSource', 'Country', 'Student', 'Employment',\n",
      "       'FormalEducation', 'UndergradMajor', 'CompanySize', 'DevType',\n",
      "       ...\n",
      "       'Exercise', 'Gender', 'SexualOrientation', 'EducationParents',\n",
      "       'RaceEthnicity', 'Age', 'Dependents', 'MilitaryUS', 'SurveyTooLong',\n",
      "       'SurveyEasy'],\n",
      "      dtype='object', length=129)\n",
      "./Dataset/survey_results_public_2019.csv\n",
      "Index(['Respondent', 'MainBranch', 'Hobbyist', 'OpenSourcer', 'OpenSource',\n",
      "       'Employment', 'Country', 'Student', 'EdLevel', 'UndergradMajor',\n",
      "       'EduOther', 'OrgSize', 'DevType', 'YearsCode', 'Age1stCode',\n",
      "       'YearsCodePro', 'CareerSat', 'JobSat', 'MgrIdiot', 'MgrMoney',\n",
      "       'MgrWant', 'JobSeek', 'LastHireDate', 'LastInt', 'FizzBuzz',\n",
      "       'JobFactors', 'ResumeUpdate', 'CurrencySymbol', 'CurrencyDesc',\n",
      "       'CompTotal', 'CompFreq', 'ConvertedComp', 'WorkWeekHrs', 'WorkPlan',\n",
      "       'WorkChallenge', 'WorkRemote', 'WorkLoc', 'ImpSyn', 'CodeRev',\n",
      "       'CodeRevHrs', 'UnitTests', 'PurchaseHow', 'PurchaseWhat',\n",
      "       'LanguageWorkedWith', 'LanguageDesireNextYear', 'DatabaseWorkedWith',\n",
      "       'DatabaseDesireNextYear', 'PlatformWorkedWith',\n",
      "       'PlatformDesireNextYear', 'WebFrameWorkedWith',\n",
      "       'WebFrameDesireNextYear', 'MiscTechWorkedWith',\n",
      "       'MiscTechDesireNextYear', 'DevEnviron', 'OpSys', 'Containers',\n",
      "       'BlockchainOrg', 'BlockchainIs', 'BetterLife', 'ITperson', 'OffOn',\n",
      "       'SocialMedia', 'Extraversion', 'ScreenName', 'SOVisit1st',\n",
      "       'SOVisitFreq', 'SOVisitTo', 'SOFindAnswer', 'SOTimeSaved',\n",
      "       'SOHowMuchTime', 'SOAccount', 'SOPartFreq', 'SOJobs', 'EntTeams',\n",
      "       'SOComm', 'WelcomeChange', 'SONewContent', 'Age', 'Gender', 'Trans',\n",
      "       'Sexuality', 'Ethnicity', 'Dependents', 'SurveyLength', 'SurveyEase'],\n",
      "      dtype='object')\n",
      "./Dataset/survey_results_public_2020.csv\n",
      "Index(['Respondent', 'MainBranch', 'Hobbyist', 'Age', 'Age1stCode', 'CompFreq',\n",
      "       'CompTotal', 'ConvertedComp', 'Country', 'CurrencyDesc',\n",
      "       'CurrencySymbol', 'DatabaseDesireNextYear', 'DatabaseWorkedWith',\n",
      "       'DevType', 'EdLevel', 'Employment', 'Ethnicity', 'Gender', 'JobFactors',\n",
      "       'JobSat', 'JobSeek', 'LanguageDesireNextYear', 'LanguageWorkedWith',\n",
      "       'MiscTechDesireNextYear', 'MiscTechWorkedWith',\n",
      "       'NEWCollabToolsDesireNextYear', 'NEWCollabToolsWorkedWith', 'NEWDevOps',\n",
      "       'NEWDevOpsImpt', 'NEWEdImpt', 'NEWJobHunt', 'NEWJobHuntResearch',\n",
      "       'NEWLearn', 'NEWOffTopic', 'NEWOnboardGood', 'NEWOtherComms',\n",
      "       'NEWOvertime', 'NEWPurchaseResearch', 'NEWPurpleLink', 'NEWSOSites',\n",
      "       'NEWStuck', 'OpSys', 'OrgSize', 'PlatformDesireNextYear',\n",
      "       'PlatformWorkedWith', 'PurchaseWhat', 'Sexuality', 'SOAccount',\n",
      "       'SOComm', 'SOPartFreq', 'SOVisitFreq', 'SurveyEase', 'SurveyLength',\n",
      "       'Trans', 'UndergradMajor', 'WebframeDesireNextYear',\n",
      "       'WebframeWorkedWith', 'WelcomeChange', 'WorkWeekHrs', 'YearsCode',\n",
      "       'YearsCodePro'],\n",
      "      dtype='object')\n"
     ]
    }
   ],
   "source": [
    "\n",
    "\n",
    "FormalEducation_exist = []\n",
    "Features = pd.DataFrame()\n",
    "for year in years:\n",
    "    print(PathName  + FileNames[2020 - year] + '.csv')\n",
    "    df = pd.read_csv(PathName  + FileNames[2020 - year] + '.csv',engine='python')\n",
    "    try:\n",
    "        df.FormalEducation\n",
    "        print(df.columns)\n",
    "        FormalEducation_exist.append(True)\n",
    "        \n",
    "    except: \n",
    "        FormalEducation_exist.append(False)\n",
    "        print(df.columns)\n",
    "\n"
   ]
  },
  {
   "cell_type": "code",
   "execution_count": 35,
   "metadata": {},
   "outputs": [
    {
     "data": {
      "text/plain": [
       "[False, False, False, False, False, False, True, True, False, False]"
      ]
     },
     "execution_count": 35,
     "metadata": {},
     "output_type": "execute_result"
    }
   ],
   "source": [
    "FormalEducation_exist"
   ]
  },
  {
   "cell_type": "markdown",
   "metadata": {},
   "source": [
    "Now, it is defined the function _clean_data_ to clean up the dataset."
   ]
  },
  {
   "cell_type": "code",
   "execution_count": 43,
   "metadata": {},
   "outputs": [],
   "source": [
    "def clean_data(df):\n",
    "    '''\n",
    "    INPUT\n",
    "    df - pandas dataframe \n",
    "    \n",
    "    OUTPUT\n",
    "    X - A matrix holding all of the variables you want to consider when predicting the response\n",
    "    y - the corresponding response vector\n",
    "    \n",
    "    Perform to obtain the correct X and y objects\n",
    "    This function cleans df using the following steps to produce X and y:\n",
    "    1. Drop all the rows with no salaries\n",
    "    2. Create X as all the columns that are not the Salary column\n",
    "    3. Create y as the Salary column\n",
    "    4. Drop the Salary, Respondent, and the ExpectedSalary columns from X\n",
    "    5. For each numeric variable in X, fill the column with the mean value of the column.\n",
    "    6. Create dummy columns for all the categorical variables in X, drop the original columns\n",
    "    '''\n",
    "    # Drop all the rows with no salaries\n",
    "    df = df.dropna(subset = ['Salary'], axis = 0)\n",
    "\n",
    "   \n",
    "    # Create y as the Salary column\n",
    "    y = df['Salary']\n",
    "    \n",
    "    # Drop the Salary, Respondent, and the ExpectedSalary columns from X\n",
    "    df = df.drop(['Salary','Respondent','ExpectedSalary'], axis=1)\n",
    "    \n",
    "    # For each numeric variable in X, fill the column with the mean value of the column.\n",
    "    num_vars = df.select_dtypes(include = ['float', 'int']).columns\n",
    "    for col in num_vars:\n",
    "        df[col].fillna((df[col].mean()), inplace=True)\n",
    "\n",
    "    # Create dummy columns for all the categorical variables in X, drop the original columns\n",
    "    cat_vars = df.select_dtypes(include = ['object']).copy().columns\n",
    "    for cols in cat_vars:\n",
    "        df = pd.concat([df.drop(cols,axis = 1),pd.get_dummies(df[cols], prefix=cols, prefix_sep='_', drop_first=True)],axis = 1)\n",
    "\n",
    "    X = df\n",
    "    \n",
    "    return X, y\n",
    "    \n",
    "#Use the function to create X and y\n",
    "X, y = clean_data(df)  "
   ]
  },
  {
   "cell_type": "code",
   "execution_count": null,
   "metadata": {},
   "outputs": [],
   "source": []
  }
 ],
 "metadata": {
  "kernelspec": {
   "display_name": "Python 3",
   "language": "python",
   "name": "python3"
  },
  "language_info": {
   "codemirror_mode": {
    "name": "ipython",
    "version": 3
   },
   "file_extension": ".py",
   "mimetype": "text/x-python",
   "name": "python",
   "nbconvert_exporter": "python",
   "pygments_lexer": "ipython3",
   "version": "3.7.3"
  }
 },
 "nbformat": 4,
 "nbformat_minor": 2
}
